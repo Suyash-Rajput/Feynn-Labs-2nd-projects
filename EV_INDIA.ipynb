{
  "nbformat": 4,
  "nbformat_minor": 0,
  "metadata": {
    "colab": {
      "name": "EV_INDIA",
      "provenance": [],
      "collapsed_sections": []
    },
    "kernelspec": {
      "name": "python3",
      "display_name": "Python 3"
    },
    "language_info": {
      "name": "python"
    }
  },
  "cells": [
    {
      "cell_type": "markdown",
      "source": [
        "**Name :- Suyash Singh**\n",
        "\n",
        "**Electric Vechicles in india segmentation**"
      ],
      "metadata": {
        "id": "YcTPDHyZllgE"
      }
    },
    {
      "cell_type": "code",
      "execution_count": null,
      "metadata": {
        "id": "BhXse23LWSvi"
      },
      "outputs": [],
      "source": [
        "import pandas as pd\n",
        "import seaborn as sns\n",
        "import matplotlib.pyplot as plt\n",
        "from sklearn.preprocessing import StandardScaler\n",
        "import numpy as np \n",
        "import os "
      ]
    },
    {
      "cell_type": "code",
      "source": [
        "from sklearn.cluster import KMeans\n",
        "from scipy.cluster.hierarchy import linkage, dendrogram\n",
        "from sklearn.cluster import AgglomerativeClustering"
      ],
      "metadata": {
        "id": "_6neV2ZSXNWb"
      },
      "execution_count": null,
      "outputs": []
    },
    {
      "cell_type": "code",
      "source": [
        "data = pd.read_csv('EVIndia.csv')"
      ],
      "metadata": {
        "id": "aFGbltECXR5e"
      },
      "execution_count": null,
      "outputs": []
    },
    {
      "cell_type": "code",
      "source": [
        "data.head()"
      ],
      "metadata": {
        "colab": {
          "base_uri": "https://localhost:8080/",
          "height": 206
        },
        "id": "JPPzumJUXfXW",
        "outputId": "215182ea-c4c8-4c85-a6dd-d2f73637edaa"
      },
      "execution_count": null,
      "outputs": [
        {
          "output_type": "execute_result",
          "data": {
            "text/plain": [
              "                     Car             Style               Range Transmission  \\\n",
              "0          Tata Nexon EV       Compact SUV  312 Km/Full Charge    Automatic   \n",
              "1          Tata Tigor EV  Subcompact Sedan  306 Km/Full Charge    Automatic   \n",
              "2      Tata Nexon EV Max       Compact SUV  437 Km/Full Charge    Automatic   \n",
              "3               MG ZS EV       Compact SUV  419 Km/Full Charge    Automatic   \n",
              "4  Hyundai Kona Electric       Compact SUV  452 Km/Full Charge    Automatic   \n",
              "\n",
              "  VehicleType         PriceRange   Capacity BootSpace           BaseModel  \\\n",
              "0    Electric   ₹ 13.99 - 17.4 L  5 Seater      350 L                 XM    \n",
              "1    Electric  ₹ 12.49 - 13.64 L  5 Seater      316 L                 XE    \n",
              "2    Electric  ₹ 17.74 - 19.24 L  5 Seater      350 L     XZ Plus 3.3 kW    \n",
              "3    Electric  ₹ 21.99 - 25.88 L  5 Seater      448 L             Excite    \n",
              "4    Electric  ₹ 23.79 - 23.98 L  5 Seater         na  Premium Dual Tone    \n",
              "\n",
              "              TopModel  \n",
              "0    Dark XZ Plus LUX   \n",
              "1   XZ Plus Dual Tone   \n",
              "2  XZ Plus Lux 7.2 kW   \n",
              "3           Exclusive   \n",
              "4                 HSE   "
            ],
            "text/html": [
              "\n",
              "  <div id=\"df-f6595924-4637-4167-baf9-f6e4d115abfe\">\n",
              "    <div class=\"colab-df-container\">\n",
              "      <div>\n",
              "<style scoped>\n",
              "    .dataframe tbody tr th:only-of-type {\n",
              "        vertical-align: middle;\n",
              "    }\n",
              "\n",
              "    .dataframe tbody tr th {\n",
              "        vertical-align: top;\n",
              "    }\n",
              "\n",
              "    .dataframe thead th {\n",
              "        text-align: right;\n",
              "    }\n",
              "</style>\n",
              "<table border=\"1\" class=\"dataframe\">\n",
              "  <thead>\n",
              "    <tr style=\"text-align: right;\">\n",
              "      <th></th>\n",
              "      <th>Car</th>\n",
              "      <th>Style</th>\n",
              "      <th>Range</th>\n",
              "      <th>Transmission</th>\n",
              "      <th>VehicleType</th>\n",
              "      <th>PriceRange</th>\n",
              "      <th>Capacity</th>\n",
              "      <th>BootSpace</th>\n",
              "      <th>BaseModel</th>\n",
              "      <th>TopModel</th>\n",
              "    </tr>\n",
              "  </thead>\n",
              "  <tbody>\n",
              "    <tr>\n",
              "      <th>0</th>\n",
              "      <td>Tata Nexon EV</td>\n",
              "      <td>Compact SUV</td>\n",
              "      <td>312 Km/Full Charge</td>\n",
              "      <td>Automatic</td>\n",
              "      <td>Electric</td>\n",
              "      <td>₹ 13.99 - 17.4 L</td>\n",
              "      <td>5 Seater</td>\n",
              "      <td>350 L</td>\n",
              "      <td>XM</td>\n",
              "      <td>Dark XZ Plus LUX</td>\n",
              "    </tr>\n",
              "    <tr>\n",
              "      <th>1</th>\n",
              "      <td>Tata Tigor EV</td>\n",
              "      <td>Subcompact Sedan</td>\n",
              "      <td>306 Km/Full Charge</td>\n",
              "      <td>Automatic</td>\n",
              "      <td>Electric</td>\n",
              "      <td>₹ 12.49 - 13.64 L</td>\n",
              "      <td>5 Seater</td>\n",
              "      <td>316 L</td>\n",
              "      <td>XE</td>\n",
              "      <td>XZ Plus Dual Tone</td>\n",
              "    </tr>\n",
              "    <tr>\n",
              "      <th>2</th>\n",
              "      <td>Tata Nexon EV Max</td>\n",
              "      <td>Compact SUV</td>\n",
              "      <td>437 Km/Full Charge</td>\n",
              "      <td>Automatic</td>\n",
              "      <td>Electric</td>\n",
              "      <td>₹ 17.74 - 19.24 L</td>\n",
              "      <td>5 Seater</td>\n",
              "      <td>350 L</td>\n",
              "      <td>XZ Plus 3.3 kW</td>\n",
              "      <td>XZ Plus Lux 7.2 kW</td>\n",
              "    </tr>\n",
              "    <tr>\n",
              "      <th>3</th>\n",
              "      <td>MG ZS EV</td>\n",
              "      <td>Compact SUV</td>\n",
              "      <td>419 Km/Full Charge</td>\n",
              "      <td>Automatic</td>\n",
              "      <td>Electric</td>\n",
              "      <td>₹ 21.99 - 25.88 L</td>\n",
              "      <td>5 Seater</td>\n",
              "      <td>448 L</td>\n",
              "      <td>Excite</td>\n",
              "      <td>Exclusive</td>\n",
              "    </tr>\n",
              "    <tr>\n",
              "      <th>4</th>\n",
              "      <td>Hyundai Kona Electric</td>\n",
              "      <td>Compact SUV</td>\n",
              "      <td>452 Km/Full Charge</td>\n",
              "      <td>Automatic</td>\n",
              "      <td>Electric</td>\n",
              "      <td>₹ 23.79 - 23.98 L</td>\n",
              "      <td>5 Seater</td>\n",
              "      <td>na</td>\n",
              "      <td>Premium Dual Tone</td>\n",
              "      <td>HSE</td>\n",
              "    </tr>\n",
              "  </tbody>\n",
              "</table>\n",
              "</div>\n",
              "      <button class=\"colab-df-convert\" onclick=\"convertToInteractive('df-f6595924-4637-4167-baf9-f6e4d115abfe')\"\n",
              "              title=\"Convert this dataframe to an interactive table.\"\n",
              "              style=\"display:none;\">\n",
              "        \n",
              "  <svg xmlns=\"http://www.w3.org/2000/svg\" height=\"24px\"viewBox=\"0 0 24 24\"\n",
              "       width=\"24px\">\n",
              "    <path d=\"M0 0h24v24H0V0z\" fill=\"none\"/>\n",
              "    <path d=\"M18.56 5.44l.94 2.06.94-2.06 2.06-.94-2.06-.94-.94-2.06-.94 2.06-2.06.94zm-11 1L8.5 8.5l.94-2.06 2.06-.94-2.06-.94L8.5 2.5l-.94 2.06-2.06.94zm10 10l.94 2.06.94-2.06 2.06-.94-2.06-.94-.94-2.06-.94 2.06-2.06.94z\"/><path d=\"M17.41 7.96l-1.37-1.37c-.4-.4-.92-.59-1.43-.59-.52 0-1.04.2-1.43.59L10.3 9.45l-7.72 7.72c-.78.78-.78 2.05 0 2.83L4 21.41c.39.39.9.59 1.41.59.51 0 1.02-.2 1.41-.59l7.78-7.78 2.81-2.81c.8-.78.8-2.07 0-2.86zM5.41 20L4 18.59l7.72-7.72 1.47 1.35L5.41 20z\"/>\n",
              "  </svg>\n",
              "      </button>\n",
              "      \n",
              "  <style>\n",
              "    .colab-df-container {\n",
              "      display:flex;\n",
              "      flex-wrap:wrap;\n",
              "      gap: 12px;\n",
              "    }\n",
              "\n",
              "    .colab-df-convert {\n",
              "      background-color: #E8F0FE;\n",
              "      border: none;\n",
              "      border-radius: 50%;\n",
              "      cursor: pointer;\n",
              "      display: none;\n",
              "      fill: #1967D2;\n",
              "      height: 32px;\n",
              "      padding: 0 0 0 0;\n",
              "      width: 32px;\n",
              "    }\n",
              "\n",
              "    .colab-df-convert:hover {\n",
              "      background-color: #E2EBFA;\n",
              "      box-shadow: 0px 1px 2px rgba(60, 64, 67, 0.3), 0px 1px 3px 1px rgba(60, 64, 67, 0.15);\n",
              "      fill: #174EA6;\n",
              "    }\n",
              "\n",
              "    [theme=dark] .colab-df-convert {\n",
              "      background-color: #3B4455;\n",
              "      fill: #D2E3FC;\n",
              "    }\n",
              "\n",
              "    [theme=dark] .colab-df-convert:hover {\n",
              "      background-color: #434B5C;\n",
              "      box-shadow: 0px 1px 3px 1px rgba(0, 0, 0, 0.15);\n",
              "      filter: drop-shadow(0px 1px 2px rgba(0, 0, 0, 0.3));\n",
              "      fill: #FFFFFF;\n",
              "    }\n",
              "  </style>\n",
              "\n",
              "      <script>\n",
              "        const buttonEl =\n",
              "          document.querySelector('#df-f6595924-4637-4167-baf9-f6e4d115abfe button.colab-df-convert');\n",
              "        buttonEl.style.display =\n",
              "          google.colab.kernel.accessAllowed ? 'block' : 'none';\n",
              "\n",
              "        async function convertToInteractive(key) {\n",
              "          const element = document.querySelector('#df-f6595924-4637-4167-baf9-f6e4d115abfe');\n",
              "          const dataTable =\n",
              "            await google.colab.kernel.invokeFunction('convertToInteractive',\n",
              "                                                     [key], {});\n",
              "          if (!dataTable) return;\n",
              "\n",
              "          const docLinkHtml = 'Like what you see? Visit the ' +\n",
              "            '<a target=\"_blank\" href=https://colab.research.google.com/notebooks/data_table.ipynb>data table notebook</a>'\n",
              "            + ' to learn more about interactive tables.';\n",
              "          element.innerHTML = '';\n",
              "          dataTable['output_type'] = 'display_data';\n",
              "          await google.colab.output.renderOutput(dataTable, element);\n",
              "          const docLink = document.createElement('div');\n",
              "          docLink.innerHTML = docLinkHtml;\n",
              "          element.appendChild(docLink);\n",
              "        }\n",
              "      </script>\n",
              "    </div>\n",
              "  </div>\n",
              "  "
            ]
          },
          "metadata": {},
          "execution_count": 4
        }
      ]
    },
    {
      "cell_type": "code",
      "source": [
        "data.shape"
      ],
      "metadata": {
        "colab": {
          "base_uri": "https://localhost:8080/"
        },
        "id": "bRF0b5pcXiDh",
        "outputId": "52e68380-7061-4554-e462-26d0a155ba89"
      },
      "execution_count": null,
      "outputs": [
        {
          "output_type": "execute_result",
          "data": {
            "text/plain": [
              "(12, 10)"
            ]
          },
          "metadata": {},
          "execution_count": 5
        }
      ]
    },
    {
      "cell_type": "code",
      "source": [
        "data.columns"
      ],
      "metadata": {
        "colab": {
          "base_uri": "https://localhost:8080/"
        },
        "id": "dKJmtmzbTcuN",
        "outputId": "335b79b8-b80e-48b7-f91a-efb95ebc44f0"
      },
      "execution_count": null,
      "outputs": [
        {
          "output_type": "execute_result",
          "data": {
            "text/plain": [
              "Index(['Car', 'Style', 'Range', 'Transmission', 'VehicleType', 'PriceRange',\n",
              "       'Capacity', 'BootSpace', 'BaseModel', 'TopModel'],\n",
              "      dtype='object')"
            ]
          },
          "metadata": {},
          "execution_count": 6
        }
      ]
    },
    {
      "cell_type": "code",
      "source": [
        "data.info()"
      ],
      "metadata": {
        "colab": {
          "base_uri": "https://localhost:8080/"
        },
        "id": "vm52dhXeUpa3",
        "outputId": "48ff9969-27aa-407f-ae00-69a36b775051"
      },
      "execution_count": null,
      "outputs": [
        {
          "output_type": "stream",
          "name": "stdout",
          "text": [
            "<class 'pandas.core.frame.DataFrame'>\n",
            "RangeIndex: 12 entries, 0 to 11\n",
            "Data columns (total 10 columns):\n",
            " #   Column        Non-Null Count  Dtype \n",
            "---  ------        --------------  ----- \n",
            " 0   Car           12 non-null     object\n",
            " 1   Style         12 non-null     object\n",
            " 2   Range         12 non-null     object\n",
            " 3   Transmission  12 non-null     object\n",
            " 4   VehicleType   12 non-null     object\n",
            " 5   PriceRange    12 non-null     object\n",
            " 6   Capacity      12 non-null     object\n",
            " 7   BootSpace     12 non-null     object\n",
            " 8   BaseModel     12 non-null     object\n",
            " 9   TopModel      12 non-null     object\n",
            "dtypes: object(10)\n",
            "memory usage: 1.1+ KB\n"
          ]
        }
      ]
    },
    {
      "cell_type": "code",
      "source": [
        "data.describe()"
      ],
      "metadata": {
        "colab": {
          "base_uri": "https://localhost:8080/",
          "height": 175
        },
        "id": "-b6Ztyt7UzbN",
        "outputId": "fd857bc5-7bd2-485a-b175-df41182cb9ac"
      },
      "execution_count": null,
      "outputs": [
        {
          "output_type": "execute_result",
          "data": {
            "text/plain": [
              "                  Car        Style               Range Transmission  \\\n",
              "count              12           12                  12           12   \n",
              "unique             12            7                  12            1   \n",
              "top     Tata Nexon EV  Compact SUV  312 Km/Full Charge    Automatic   \n",
              "freq                1            6                   1           12   \n",
              "\n",
              "       VehicleType        PriceRange   Capacity BootSpace BaseModel TopModel  \n",
              "count           12                12         12        12        12       12  \n",
              "unique           1                12          2         8         9        7  \n",
              "top       Electric  ₹ 13.99 - 17.4 L  5 Seater         na        na       na  \n",
              "freq            12                 1         11         4         4        6  "
            ],
            "text/html": [
              "\n",
              "  <div id=\"df-2a1e1244-3404-40e7-aba0-ed74c244693d\">\n",
              "    <div class=\"colab-df-container\">\n",
              "      <div>\n",
              "<style scoped>\n",
              "    .dataframe tbody tr th:only-of-type {\n",
              "        vertical-align: middle;\n",
              "    }\n",
              "\n",
              "    .dataframe tbody tr th {\n",
              "        vertical-align: top;\n",
              "    }\n",
              "\n",
              "    .dataframe thead th {\n",
              "        text-align: right;\n",
              "    }\n",
              "</style>\n",
              "<table border=\"1\" class=\"dataframe\">\n",
              "  <thead>\n",
              "    <tr style=\"text-align: right;\">\n",
              "      <th></th>\n",
              "      <th>Car</th>\n",
              "      <th>Style</th>\n",
              "      <th>Range</th>\n",
              "      <th>Transmission</th>\n",
              "      <th>VehicleType</th>\n",
              "      <th>PriceRange</th>\n",
              "      <th>Capacity</th>\n",
              "      <th>BootSpace</th>\n",
              "      <th>BaseModel</th>\n",
              "      <th>TopModel</th>\n",
              "    </tr>\n",
              "  </thead>\n",
              "  <tbody>\n",
              "    <tr>\n",
              "      <th>count</th>\n",
              "      <td>12</td>\n",
              "      <td>12</td>\n",
              "      <td>12</td>\n",
              "      <td>12</td>\n",
              "      <td>12</td>\n",
              "      <td>12</td>\n",
              "      <td>12</td>\n",
              "      <td>12</td>\n",
              "      <td>12</td>\n",
              "      <td>12</td>\n",
              "    </tr>\n",
              "    <tr>\n",
              "      <th>unique</th>\n",
              "      <td>12</td>\n",
              "      <td>7</td>\n",
              "      <td>12</td>\n",
              "      <td>1</td>\n",
              "      <td>1</td>\n",
              "      <td>12</td>\n",
              "      <td>2</td>\n",
              "      <td>8</td>\n",
              "      <td>9</td>\n",
              "      <td>7</td>\n",
              "    </tr>\n",
              "    <tr>\n",
              "      <th>top</th>\n",
              "      <td>Tata Nexon EV</td>\n",
              "      <td>Compact SUV</td>\n",
              "      <td>312 Km/Full Charge</td>\n",
              "      <td>Automatic</td>\n",
              "      <td>Electric</td>\n",
              "      <td>₹ 13.99 - 17.4 L</td>\n",
              "      <td>5 Seater</td>\n",
              "      <td>na</td>\n",
              "      <td>na</td>\n",
              "      <td>na</td>\n",
              "    </tr>\n",
              "    <tr>\n",
              "      <th>freq</th>\n",
              "      <td>1</td>\n",
              "      <td>6</td>\n",
              "      <td>1</td>\n",
              "      <td>12</td>\n",
              "      <td>12</td>\n",
              "      <td>1</td>\n",
              "      <td>11</td>\n",
              "      <td>4</td>\n",
              "      <td>4</td>\n",
              "      <td>6</td>\n",
              "    </tr>\n",
              "  </tbody>\n",
              "</table>\n",
              "</div>\n",
              "      <button class=\"colab-df-convert\" onclick=\"convertToInteractive('df-2a1e1244-3404-40e7-aba0-ed74c244693d')\"\n",
              "              title=\"Convert this dataframe to an interactive table.\"\n",
              "              style=\"display:none;\">\n",
              "        \n",
              "  <svg xmlns=\"http://www.w3.org/2000/svg\" height=\"24px\"viewBox=\"0 0 24 24\"\n",
              "       width=\"24px\">\n",
              "    <path d=\"M0 0h24v24H0V0z\" fill=\"none\"/>\n",
              "    <path d=\"M18.56 5.44l.94 2.06.94-2.06 2.06-.94-2.06-.94-.94-2.06-.94 2.06-2.06.94zm-11 1L8.5 8.5l.94-2.06 2.06-.94-2.06-.94L8.5 2.5l-.94 2.06-2.06.94zm10 10l.94 2.06.94-2.06 2.06-.94-2.06-.94-.94-2.06-.94 2.06-2.06.94z\"/><path d=\"M17.41 7.96l-1.37-1.37c-.4-.4-.92-.59-1.43-.59-.52 0-1.04.2-1.43.59L10.3 9.45l-7.72 7.72c-.78.78-.78 2.05 0 2.83L4 21.41c.39.39.9.59 1.41.59.51 0 1.02-.2 1.41-.59l7.78-7.78 2.81-2.81c.8-.78.8-2.07 0-2.86zM5.41 20L4 18.59l7.72-7.72 1.47 1.35L5.41 20z\"/>\n",
              "  </svg>\n",
              "      </button>\n",
              "      \n",
              "  <style>\n",
              "    .colab-df-container {\n",
              "      display:flex;\n",
              "      flex-wrap:wrap;\n",
              "      gap: 12px;\n",
              "    }\n",
              "\n",
              "    .colab-df-convert {\n",
              "      background-color: #E8F0FE;\n",
              "      border: none;\n",
              "      border-radius: 50%;\n",
              "      cursor: pointer;\n",
              "      display: none;\n",
              "      fill: #1967D2;\n",
              "      height: 32px;\n",
              "      padding: 0 0 0 0;\n",
              "      width: 32px;\n",
              "    }\n",
              "\n",
              "    .colab-df-convert:hover {\n",
              "      background-color: #E2EBFA;\n",
              "      box-shadow: 0px 1px 2px rgba(60, 64, 67, 0.3), 0px 1px 3px 1px rgba(60, 64, 67, 0.15);\n",
              "      fill: #174EA6;\n",
              "    }\n",
              "\n",
              "    [theme=dark] .colab-df-convert {\n",
              "      background-color: #3B4455;\n",
              "      fill: #D2E3FC;\n",
              "    }\n",
              "\n",
              "    [theme=dark] .colab-df-convert:hover {\n",
              "      background-color: #434B5C;\n",
              "      box-shadow: 0px 1px 3px 1px rgba(0, 0, 0, 0.15);\n",
              "      filter: drop-shadow(0px 1px 2px rgba(0, 0, 0, 0.3));\n",
              "      fill: #FFFFFF;\n",
              "    }\n",
              "  </style>\n",
              "\n",
              "      <script>\n",
              "        const buttonEl =\n",
              "          document.querySelector('#df-2a1e1244-3404-40e7-aba0-ed74c244693d button.colab-df-convert');\n",
              "        buttonEl.style.display =\n",
              "          google.colab.kernel.accessAllowed ? 'block' : 'none';\n",
              "\n",
              "        async function convertToInteractive(key) {\n",
              "          const element = document.querySelector('#df-2a1e1244-3404-40e7-aba0-ed74c244693d');\n",
              "          const dataTable =\n",
              "            await google.colab.kernel.invokeFunction('convertToInteractive',\n",
              "                                                     [key], {});\n",
              "          if (!dataTable) return;\n",
              "\n",
              "          const docLinkHtml = 'Like what you see? Visit the ' +\n",
              "            '<a target=\"_blank\" href=https://colab.research.google.com/notebooks/data_table.ipynb>data table notebook</a>'\n",
              "            + ' to learn more about interactive tables.';\n",
              "          element.innerHTML = '';\n",
              "          dataTable['output_type'] = 'display_data';\n",
              "          await google.colab.output.renderOutput(dataTable, element);\n",
              "          const docLink = document.createElement('div');\n",
              "          docLink.innerHTML = docLinkHtml;\n",
              "          element.appendChild(docLink);\n",
              "        }\n",
              "      </script>\n",
              "    </div>\n",
              "  </div>\n",
              "  "
            ]
          },
          "metadata": {},
          "execution_count": 9
        }
      ]
    },
    {
      "cell_type": "code",
      "source": [
        "data.isnull().sum()"
      ],
      "metadata": {
        "colab": {
          "base_uri": "https://localhost:8080/"
        },
        "id": "SUOxBjaCVM2n",
        "outputId": "f0c7e686-a063-47fa-d7fd-25faa4cfb650"
      },
      "execution_count": null,
      "outputs": [
        {
          "output_type": "execute_result",
          "data": {
            "text/plain": [
              "Car             0\n",
              "Style           0\n",
              "Range           0\n",
              "Transmission    0\n",
              "VehicleType     0\n",
              "PriceRange      0\n",
              "Capacity        0\n",
              "BootSpace       0\n",
              "BaseModel       0\n",
              "TopModel        0\n",
              "dtype: int64"
            ]
          },
          "metadata": {},
          "execution_count": 12
        }
      ]
    },
    {
      "cell_type": "code",
      "source": [
        "from sklearn.preprocessing import LabelEncoder"
      ],
      "metadata": {
        "id": "8Dnvu8GpVQxl"
      },
      "execution_count": null,
      "outputs": []
    },
    {
      "cell_type": "code",
      "source": [
        "le=  LabelEncoder() \n"
      ],
      "metadata": {
        "id": "hoRxxhEKVlBg"
      },
      "execution_count": null,
      "outputs": []
    },
    {
      "cell_type": "code",
      "source": [
        "data=data.apply(LabelEncoder().fit_transform)"
      ],
      "metadata": {
        "id": "-BitxPjhcYR7"
      },
      "execution_count": null,
      "outputs": []
    },
    {
      "cell_type": "code",
      "source": [
        "data.head()"
      ],
      "metadata": {
        "colab": {
          "base_uri": "https://localhost:8080/",
          "height": 206
        },
        "id": "ZD_V1hp2cqVp",
        "outputId": "3b74b528-b0bb-4fed-9cfd-a190e4b33195"
      },
      "execution_count": null,
      "outputs": [
        {
          "output_type": "execute_result",
          "data": {
            "text/plain": [
              "   Car  Style  Range  Transmission  VehicleType  PriceRange  Capacity  \\\n",
              "0    0      0      0             0            0           7         1   \n",
              "1    0      0      0             0            0           6         1   \n",
              "2    0      0      0             0            0           8         1   \n",
              "3    0      0      0             0            0           9         1   \n",
              "4    0      0      0             0            0          10         1   \n",
              "\n",
              "   BootSpace  BaseModel  TopModel  \n",
              "0          1          6         0  \n",
              "1          0          5         4  \n",
              "2          1          7         5  \n",
              "3          3          0         1  \n",
              "4          7          1         2  "
            ],
            "text/html": [
              "\n",
              "  <div id=\"df-c6c50ac9-94d5-4351-9ea2-63e6eb97ebae\">\n",
              "    <div class=\"colab-df-container\">\n",
              "      <div>\n",
              "<style scoped>\n",
              "    .dataframe tbody tr th:only-of-type {\n",
              "        vertical-align: middle;\n",
              "    }\n",
              "\n",
              "    .dataframe tbody tr th {\n",
              "        vertical-align: top;\n",
              "    }\n",
              "\n",
              "    .dataframe thead th {\n",
              "        text-align: right;\n",
              "    }\n",
              "</style>\n",
              "<table border=\"1\" class=\"dataframe\">\n",
              "  <thead>\n",
              "    <tr style=\"text-align: right;\">\n",
              "      <th></th>\n",
              "      <th>Car</th>\n",
              "      <th>Style</th>\n",
              "      <th>Range</th>\n",
              "      <th>Transmission</th>\n",
              "      <th>VehicleType</th>\n",
              "      <th>PriceRange</th>\n",
              "      <th>Capacity</th>\n",
              "      <th>BootSpace</th>\n",
              "      <th>BaseModel</th>\n",
              "      <th>TopModel</th>\n",
              "    </tr>\n",
              "  </thead>\n",
              "  <tbody>\n",
              "    <tr>\n",
              "      <th>0</th>\n",
              "      <td>0</td>\n",
              "      <td>0</td>\n",
              "      <td>0</td>\n",
              "      <td>0</td>\n",
              "      <td>0</td>\n",
              "      <td>7</td>\n",
              "      <td>1</td>\n",
              "      <td>1</td>\n",
              "      <td>6</td>\n",
              "      <td>0</td>\n",
              "    </tr>\n",
              "    <tr>\n",
              "      <th>1</th>\n",
              "      <td>0</td>\n",
              "      <td>0</td>\n",
              "      <td>0</td>\n",
              "      <td>0</td>\n",
              "      <td>0</td>\n",
              "      <td>6</td>\n",
              "      <td>1</td>\n",
              "      <td>0</td>\n",
              "      <td>5</td>\n",
              "      <td>4</td>\n",
              "    </tr>\n",
              "    <tr>\n",
              "      <th>2</th>\n",
              "      <td>0</td>\n",
              "      <td>0</td>\n",
              "      <td>0</td>\n",
              "      <td>0</td>\n",
              "      <td>0</td>\n",
              "      <td>8</td>\n",
              "      <td>1</td>\n",
              "      <td>1</td>\n",
              "      <td>7</td>\n",
              "      <td>5</td>\n",
              "    </tr>\n",
              "    <tr>\n",
              "      <th>3</th>\n",
              "      <td>0</td>\n",
              "      <td>0</td>\n",
              "      <td>0</td>\n",
              "      <td>0</td>\n",
              "      <td>0</td>\n",
              "      <td>9</td>\n",
              "      <td>1</td>\n",
              "      <td>3</td>\n",
              "      <td>0</td>\n",
              "      <td>1</td>\n",
              "    </tr>\n",
              "    <tr>\n",
              "      <th>4</th>\n",
              "      <td>0</td>\n",
              "      <td>0</td>\n",
              "      <td>0</td>\n",
              "      <td>0</td>\n",
              "      <td>0</td>\n",
              "      <td>10</td>\n",
              "      <td>1</td>\n",
              "      <td>7</td>\n",
              "      <td>1</td>\n",
              "      <td>2</td>\n",
              "    </tr>\n",
              "  </tbody>\n",
              "</table>\n",
              "</div>\n",
              "      <button class=\"colab-df-convert\" onclick=\"convertToInteractive('df-c6c50ac9-94d5-4351-9ea2-63e6eb97ebae')\"\n",
              "              title=\"Convert this dataframe to an interactive table.\"\n",
              "              style=\"display:none;\">\n",
              "        \n",
              "  <svg xmlns=\"http://www.w3.org/2000/svg\" height=\"24px\"viewBox=\"0 0 24 24\"\n",
              "       width=\"24px\">\n",
              "    <path d=\"M0 0h24v24H0V0z\" fill=\"none\"/>\n",
              "    <path d=\"M18.56 5.44l.94 2.06.94-2.06 2.06-.94-2.06-.94-.94-2.06-.94 2.06-2.06.94zm-11 1L8.5 8.5l.94-2.06 2.06-.94-2.06-.94L8.5 2.5l-.94 2.06-2.06.94zm10 10l.94 2.06.94-2.06 2.06-.94-2.06-.94-.94-2.06-.94 2.06-2.06.94z\"/><path d=\"M17.41 7.96l-1.37-1.37c-.4-.4-.92-.59-1.43-.59-.52 0-1.04.2-1.43.59L10.3 9.45l-7.72 7.72c-.78.78-.78 2.05 0 2.83L4 21.41c.39.39.9.59 1.41.59.51 0 1.02-.2 1.41-.59l7.78-7.78 2.81-2.81c.8-.78.8-2.07 0-2.86zM5.41 20L4 18.59l7.72-7.72 1.47 1.35L5.41 20z\"/>\n",
              "  </svg>\n",
              "      </button>\n",
              "      \n",
              "  <style>\n",
              "    .colab-df-container {\n",
              "      display:flex;\n",
              "      flex-wrap:wrap;\n",
              "      gap: 12px;\n",
              "    }\n",
              "\n",
              "    .colab-df-convert {\n",
              "      background-color: #E8F0FE;\n",
              "      border: none;\n",
              "      border-radius: 50%;\n",
              "      cursor: pointer;\n",
              "      display: none;\n",
              "      fill: #1967D2;\n",
              "      height: 32px;\n",
              "      padding: 0 0 0 0;\n",
              "      width: 32px;\n",
              "    }\n",
              "\n",
              "    .colab-df-convert:hover {\n",
              "      background-color: #E2EBFA;\n",
              "      box-shadow: 0px 1px 2px rgba(60, 64, 67, 0.3), 0px 1px 3px 1px rgba(60, 64, 67, 0.15);\n",
              "      fill: #174EA6;\n",
              "    }\n",
              "\n",
              "    [theme=dark] .colab-df-convert {\n",
              "      background-color: #3B4455;\n",
              "      fill: #D2E3FC;\n",
              "    }\n",
              "\n",
              "    [theme=dark] .colab-df-convert:hover {\n",
              "      background-color: #434B5C;\n",
              "      box-shadow: 0px 1px 3px 1px rgba(0, 0, 0, 0.15);\n",
              "      filter: drop-shadow(0px 1px 2px rgba(0, 0, 0, 0.3));\n",
              "      fill: #FFFFFF;\n",
              "    }\n",
              "  </style>\n",
              "\n",
              "      <script>\n",
              "        const buttonEl =\n",
              "          document.querySelector('#df-c6c50ac9-94d5-4351-9ea2-63e6eb97ebae button.colab-df-convert');\n",
              "        buttonEl.style.display =\n",
              "          google.colab.kernel.accessAllowed ? 'block' : 'none';\n",
              "\n",
              "        async function convertToInteractive(key) {\n",
              "          const element = document.querySelector('#df-c6c50ac9-94d5-4351-9ea2-63e6eb97ebae');\n",
              "          const dataTable =\n",
              "            await google.colab.kernel.invokeFunction('convertToInteractive',\n",
              "                                                     [key], {});\n",
              "          if (!dataTable) return;\n",
              "\n",
              "          const docLinkHtml = 'Like what you see? Visit the ' +\n",
              "            '<a target=\"_blank\" href=https://colab.research.google.com/notebooks/data_table.ipynb>data table notebook</a>'\n",
              "            + ' to learn more about interactive tables.';\n",
              "          element.innerHTML = '';\n",
              "          dataTable['output_type'] = 'display_data';\n",
              "          await google.colab.output.renderOutput(dataTable, element);\n",
              "          const docLink = document.createElement('div');\n",
              "          docLink.innerHTML = docLinkHtml;\n",
              "          element.appendChild(docLink);\n",
              "        }\n",
              "      </script>\n",
              "    </div>\n",
              "  </div>\n",
              "  "
            ]
          },
          "metadata": {},
          "execution_count": 33
        }
      ]
    },
    {
      "cell_type": "code",
      "source": [
        "plt.figure(figsize=(15,15))\n",
        "sns.heatmap(data.corr(),annot=True)\n",
        "plt.show()"
      ],
      "metadata": {
        "colab": {
          "base_uri": "https://localhost:8080/",
          "height": 867
        },
        "id": "2It8HuQ1bLs0",
        "outputId": "6cfbf498-7524-4e86-bfec-063911ce3291"
      },
      "execution_count": null,
      "outputs": [
        {
          "output_type": "display_data",
          "data": {
            "text/plain": [
              "<Figure size 1080x1080 with 2 Axes>"
            ],
            "image/png": "[encoded data removed]"
          },
          "metadata": {
            "needs_background": "light"
          }
        }
      ]
    },
    {
      "cell_type": "code",
      "source": [
        "import seaborn as sns\n",
        "sns.countplot(x='Car',data=data, color='Red', saturation=0.1)\n",
        "plt.show()"
      ],
      "metadata": {
        "colab": {
          "base_uri": "https://localhost:8080/",
          "height": 279
        },
        "id": "Z6Y0V16-cxlX",
        "outputId": "a478328a-cc74-4ee8-bb2e-f5665df0860c"
      },
      "execution_count": null,
      "outputs": [
        {
          "output_type": "display_data",
          "data": {
            "text/plain": [
              "<Figure size 432x288 with 1 Axes>"
            ],
            "image/png": "[encoded data removed]"
          },
          "metadata": {
            "needs_background": "light"
          }
        }
      ]
    },
    {
      "cell_type": "code",
      "source": [
        "import seaborn as sns\n",
        "sns.countplot(x='TopModel',data=data, color='Red', saturation=0.1)\n",
        "plt.show()"
      ],
      "metadata": {
        "colab": {
          "base_uri": "https://localhost:8080/",
          "height": 279
        },
        "id": "gp_BRfPUi9yP",
        "outputId": "a15e7a29-6347-46d8-fabd-9730376582cc"
      },
      "execution_count": null,
      "outputs": [
        {
          "output_type": "display_data",
          "data": {
            "text/plain": [
              "<Figure size 432x288 with 1 Axes>"
            ],
            "image/png": "[encoded data removed]"
          },
          "metadata": {
            "needs_background": "light"
          }
        }
      ]
    },
    {
      "cell_type": "code",
      "source": [
        "plt.figure(figsize=(20,10))\n",
        "sns.countplot(data.Car)\n",
        "plt.xlabel(\"Car\")\n",
        "plt.ylabel(\"Style\")\n",
        "plt.show()"
      ],
      "metadata": {
        "colab": {
          "base_uri": "https://localhost:8080/",
          "height": 662
        },
        "id": "4qcgiFtLc3Tb",
        "outputId": "0bc93b36-2aaa-4eee-d4bc-67c99f440486"
      },
      "execution_count": null,
      "outputs": [
        {
          "output_type": "stream",
          "name": "stderr",
          "text": [
            "/usr/local/lib/python3.7/dist-packages/seaborn/_decorators.py:43: FutureWarning: Pass the following variable as a keyword arg: x. From version 0.12, the only valid positional argument will be `data`, and passing other arguments without an explicit keyword will result in an error or misinterpretation.\n",
            "  FutureWarning\n"
          ]
        },
        {
          "output_type": "display_data",
          "data": {
            "text/plain": [
              "<Figure size 1440x720 with 1 Axes>"
            ],
            "image/png": "[encoded data removed]"
          },
          "metadata": {
            "needs_background": "light"
          }
        }
      ]
    },
    {
      "cell_type": "code",
      "source": [
        "plt.figure(figsize=(20,10))\n",
        "sns.countplot(data.Car)\n",
        "plt.xlabel(\"Car\")\n",
        "plt.ylabel(\"Topmodel\")\n",
        "plt.show()"
      ],
      "metadata": {
        "colab": {
          "base_uri": "https://localhost:8080/",
          "height": 662
        },
        "id": "WhcoW7P1dBV7",
        "outputId": "23784024-7afe-46fe-96c6-fc578ecfe71e"
      },
      "execution_count": null,
      "outputs": [
        {
          "output_type": "stream",
          "name": "stderr",
          "text": [
            "/usr/local/lib/python3.7/dist-packages/seaborn/_decorators.py:43: FutureWarning: Pass the following variable as a keyword arg: x. From version 0.12, the only valid positional argument will be `data`, and passing other arguments without an explicit keyword will result in an error or misinterpretation.\n",
            "  FutureWarning\n"
          ]
        },
        {
          "output_type": "display_data",
          "data": {
            "text/plain": [
              "<Figure size 1440x720 with 1 Axes>"
            ],
            "image/png": "[encoded data removed]"
          },
          "metadata": {
            "needs_background": "light"
          }
        }
      ]
    },
    {
      "cell_type": "code",
      "source": [
        "pd.plotting.scatter_matrix(data, alpha=0.5,figsize=(10,10))"
      ],
      "metadata": {
        "colab": {
          "base_uri": "https://localhost:8080/",
          "height": 1000
        },
        "id": "towEEgdwdfsZ",
        "outputId": "0c3fa6a7-7bfa-4aaf-93a8-a2156cbb5110"
      },
      "execution_count": null,
      "outputs": [
        {
          "output_type": "stream",
          "name": "stderr",
          "text": [
            "/usr/local/lib/python3.7/dist-packages/pandas/plotting/_matplotlib/misc.py:91: UserWarning: Attempting to set identical left == right == 0.0 results in singular transformations; automatically expanding.\n",
            "  ax.set_xlim(boundaries_list[i])\n",
            "/usr/local/lib/python3.7/dist-packages/pandas/plotting/_matplotlib/misc.py:100: UserWarning: Attempting to set identical left == right == 0.0 results in singular transformations; automatically expanding.\n",
            "  ax.set_xlim(boundaries_list[j])\n",
            "/usr/local/lib/python3.7/dist-packages/pandas/plotting/_matplotlib/misc.py:101: UserWarning: Attempting to set identical bottom == top == 0.0 results in singular transformations; automatically expanding.\n",
            "  ax.set_ylim(boundaries_list[i])\n",
            "/usr/local/lib/python3.7/dist-packages/pandas/plotting/_matplotlib/misc.py:115: RuntimeWarning: invalid value encountered in true_divide\n",
            "  adj = (locs - lim1[0]) / (lim1[1] - lim1[0])\n"
          ]
        },
        {
          "output_type": "execute_result",
          "data": {
            "text/plain": [
              "array([[<matplotlib.axes._subplots.AxesSubplot object at 0x7face378ec10>,\n",
              "        <matplotlib.axes._subplots.AxesSubplot object at 0x7face3735d90>,\n",
              "        <matplotlib.axes._subplots.AxesSubplot object at 0x7face36fa3d0>,\n",
              "        <matplotlib.axes._subplots.AxesSubplot object at 0x7face36af9d0>,\n",
              "        <matplotlib.axes._subplots.AxesSubplot object at 0x7face3671050>,\n",
              "        <matplotlib.axes._subplots.AxesSubplot object at 0x7face362a610>,\n",
              "        <matplotlib.axes._subplots.AxesSubplot object at 0x7face35dfc10>,\n",
              "        <matplotlib.axes._subplots.AxesSubplot object at 0x7face35a4250>,\n",
              "        <matplotlib.axes._subplots.AxesSubplot object at 0x7face35ae750>,\n",
              "        <matplotlib.axes._subplots.AxesSubplot object at 0x7face3564dd0>],\n",
              "       [<matplotlib.axes._subplots.AxesSubplot object at 0x7face3554490>,\n",
              "        <matplotlib.axes._subplots.AxesSubplot object at 0x7face350aa90>,\n",
              "        <matplotlib.axes._subplots.AxesSubplot object at 0x7face34cf0d0>,\n",
              "        <matplotlib.axes._subplots.AxesSubplot object at 0x7face34866d0>,\n",
              "        <matplotlib.axes._subplots.AxesSubplot object at 0x7face343bcd0>,\n",
              "        <matplotlib.axes._subplots.AxesSubplot object at 0x7face3401310>,\n",
              "        <matplotlib.axes._subplots.AxesSubplot object at 0x7face33b8910>,\n",
              "        <matplotlib.axes._subplots.AxesSubplot object at 0x7face336df10>,\n",
              "        <matplotlib.axes._subplots.AxesSubplot object at 0x7face3331510>,\n",
              "        <matplotlib.axes._subplots.AxesSubplot object at 0x7face32e7a10>],\n",
              "       [<matplotlib.axes._subplots.AxesSubplot object at 0x7face329ff10>,\n",
              "        <matplotlib.axes._subplots.AxesSubplot object at 0x7face3262450>,\n",
              "        <matplotlib.axes._subplots.AxesSubplot object at 0x7face3298950>,\n",
              "        <matplotlib.axes._subplots.AxesSubplot object at 0x7face324fe50>,\n",
              "        <matplotlib.axes._subplots.AxesSubplot object at 0x7face3211390>,\n",
              "        <matplotlib.axes._subplots.AxesSubplot object at 0x7face9ccbad0>,\n",
              "        <matplotlib.axes._subplots.AxesSubplot object at 0x7face35a47d0>,\n",
              "        <matplotlib.axes._subplots.AxesSubplot object at 0x7face3469450>,\n",
              "        <matplotlib.axes._subplots.AxesSubplot object at 0x7face37ab6d0>,\n",
              "        <matplotlib.axes._subplots.AxesSubplot object at 0x7face3837ed0>],\n",
              "       [<matplotlib.axes._subplots.AxesSubplot object at 0x7face38b78d0>,\n",
              "        <matplotlib.axes._subplots.AxesSubplot object at 0x7face395e290>,\n",
              "        <matplotlib.axes._subplots.AxesSubplot object at 0x7face680a710>,\n",
              "        <matplotlib.axes._subplots.AxesSubplot object at 0x7face88807d0>,\n",
              "        <matplotlib.axes._subplots.AxesSubplot object at 0x7face3f29d10>,\n",
              "        <matplotlib.axes._subplots.AxesSubplot object at 0x7face6944510>,\n",
              "        <matplotlib.axes._subplots.AxesSubplot object at 0x7face3900f50>,\n",
              "        <matplotlib.axes._subplots.AxesSubplot object at 0x7face6770590>,\n",
              "        <matplotlib.axes._subplots.AxesSubplot object at 0x7face39dafd0>,\n",
              "        <matplotlib.axes._subplots.AxesSubplot object at 0x7face39ea1d0>],\n",
              "       [<matplotlib.axes._subplots.AxesSubplot object at 0x7face317f7d0>,\n",
              "        <matplotlib.axes._subplots.AxesSubplot object at 0x7face3138dd0>,\n",
              "        <matplotlib.axes._subplots.AxesSubplot object at 0x7face30f9410>,\n",
              "        <matplotlib.axes._subplots.AxesSubplot object at 0x7face30aea10>,\n",
              "        <matplotlib.axes._subplots.AxesSubplot object at 0x7face3075090>,\n",
              "        <matplotlib.axes._subplots.AxesSubplot object at 0x7face302b650>,\n",
              "        <matplotlib.axes._subplots.AxesSubplot object at 0x7face2fe2c50>,\n",
              "        <matplotlib.axes._subplots.AxesSubplot object at 0x7face2fa7290>,\n",
              "        <matplotlib.axes._subplots.AxesSubplot object at 0x7face2fdb950>,\n",
              "        <matplotlib.axes._subplots.AxesSubplot object at 0x7face2f92ed0>],\n",
              "       [<matplotlib.axes._subplots.AxesSubplot object at 0x7face2f55510>,\n",
              "        <matplotlib.axes._subplots.AxesSubplot object at 0x7face2f16fd0>,\n",
              "        <matplotlib.axes._subplots.AxesSubplot object at 0x7face2ecf150>,\n",
              "        <matplotlib.axes._subplots.AxesSubplot object at 0x7face2e86750>,\n",
              "        <matplotlib.axes._subplots.AxesSubplot object at 0x7face2e3ed50>,\n",
              "        <matplotlib.axes._subplots.AxesSubplot object at 0x7face2df8ed0>,\n",
              "        <matplotlib.axes._subplots.AxesSubplot object at 0x7face2dbb410>,\n",
              "        <matplotlib.axes._subplots.AxesSubplot object at 0x7face2d72910>,\n",
              "        <matplotlib.axes._subplots.AxesSubplot object at 0x7face2d28e10>,\n",
              "        <matplotlib.axes._subplots.AxesSubplot object at 0x7face2ceb350>],\n",
              "       [<matplotlib.axes._subplots.AxesSubplot object at 0x7face2ca2850>,\n",
              "        <matplotlib.axes._subplots.AxesSubplot object at 0x7face2cdad50>,\n",
              "        <matplotlib.axes._subplots.AxesSubplot object at 0x7face2c9d290>,\n",
              "        <matplotlib.axes._subplots.AxesSubplot object at 0x7face2c51790>,\n",
              "        <matplotlib.axes._subplots.AxesSubplot object at 0x7face2c09c90>,\n",
              "        <matplotlib.axes._subplots.AxesSubplot object at 0x7face2bcd1d0>,\n",
              "        <matplotlib.axes._subplots.AxesSubplot object at 0x7face2b846d0>,\n",
              "        <matplotlib.axes._subplots.AxesSubplot object at 0x7face2b3bbd0>,\n",
              "        <matplotlib.axes._subplots.AxesSubplot object at 0x7face2aff110>,\n",
              "        <matplotlib.axes._subplots.AxesSubplot object at 0x7face2ab5610>],\n",
              "       [<matplotlib.axes._subplots.AxesSubplot object at 0x7face2a77fd0>,\n",
              "        <matplotlib.axes._subplots.AxesSubplot object at 0x7face2a30050>,\n",
              "        <matplotlib.axes._subplots.AxesSubplot object at 0x7face29e4550>,\n",
              "        <matplotlib.axes._subplots.AxesSubplot object at 0x7face2a1da50>,\n",
              "        <matplotlib.axes._subplots.AxesSubplot object at 0x7face29d4f50>,\n",
              "        <matplotlib.axes._subplots.AxesSubplot object at 0x7face2996490>,\n",
              "        <matplotlib.axes._subplots.AxesSubplot object at 0x7face294c990>,\n",
              "        <matplotlib.axes._subplots.AxesSubplot object at 0x7face2904e90>,\n",
              "        <matplotlib.axes._subplots.AxesSubplot object at 0x7face28c83d0>,\n",
              "        <matplotlib.axes._subplots.AxesSubplot object at 0x7face287e8d0>],\n",
              "       [<matplotlib.axes._subplots.AxesSubplot object at 0x7face2835dd0>,\n",
              "        <matplotlib.axes._subplots.AxesSubplot object at 0x7face27f9350>,\n",
              "        <matplotlib.axes._subplots.AxesSubplot object at 0x7face375c210>,\n",
              "        <matplotlib.axes._subplots.AxesSubplot object at 0x7face3953950>,\n",
              "        <matplotlib.axes._subplots.AxesSubplot object at 0x7face3a0c110>,\n",
              "        <matplotlib.axes._subplots.AxesSubplot object at 0x7face3043c90>,\n",
              "        <matplotlib.axes._subplots.AxesSubplot object at 0x7face2e66650>,\n",
              "        <matplotlib.axes._subplots.AxesSubplot object at 0x7face26b6d90>,\n",
              "        <matplotlib.axes._subplots.AxesSubplot object at 0x7face267a3d0>,\n",
              "        <matplotlib.axes._subplots.AxesSubplot object at 0x7face262f9d0>],\n",
              "       [<matplotlib.axes._subplots.AxesSubplot object at 0x7face25f4050>,\n",
              "        <matplotlib.axes._subplots.AxesSubplot object at 0x7face25ab610>,\n",
              "        <matplotlib.axes._subplots.AxesSubplot object at 0x7face2562c10>,\n",
              "        <matplotlib.axes._subplots.AxesSubplot object at 0x7face2525250>,\n",
              "        <matplotlib.axes._subplots.AxesSubplot object at 0x7face255d850>,\n",
              "        <matplotlib.axes._subplots.AxesSubplot object at 0x7face2515e50>,\n",
              "        <matplotlib.axes._subplots.AxesSubplot object at 0x7face24d8490>,\n",
              "        <matplotlib.axes._subplots.AxesSubplot object at 0x7face248ea90>,\n",
              "        <matplotlib.axes._subplots.AxesSubplot object at 0x7face24520d0>,\n",
              "        <matplotlib.axes._subplots.AxesSubplot object at 0x7face2412850>]],\n",
              "      dtype=object)"
            ]
          },
          "metadata": {},
          "execution_count": 40
        },
        {
          "output_type": "display_data",
          "data": {
            "text/plain": [
              "<Figure size 720x720 with 100 Axes>"
            ],
            "image/png": "[encoded data removed]"
          },
          "metadata": {
            "needs_background": "light"
          }
        }
      ]
    },
    {
      "cell_type": "code",
      "source": [
        "data"
      ],
      "metadata": {
        "colab": {
          "base_uri": "https://localhost:8080/",
          "height": 426
        },
        "id": "Fj0evoDrdhRg",
        "outputId": "ac806507-78c5-40d8-926d-02dec5637029"
      },
      "execution_count": null,
      "outputs": [
        {
          "output_type": "execute_result",
          "data": {
            "text/plain": [
              "    Car  Style  Range  Transmission  VehicleType  PriceRange  Capacity  \\\n",
              "0     0      0      0             0            0           7         1   \n",
              "1     0      0      0             0            0           6         1   \n",
              "2     0      0      0             0            0           8         1   \n",
              "3     0      0      0             0            0           9         1   \n",
              "4     0      0      0             0            0          10         1   \n",
              "5     0      0      0             0            0           2         1   \n",
              "6     0      0      0             0            0           5         1   \n",
              "7     0      0      0             0            0          11         1   \n",
              "8     0      0      0             0            0           0         1   \n",
              "9     0      0      0             0            0           3         1   \n",
              "10    0      0      0             0            0           4         0   \n",
              "11    0      0      0             0            0           1         1   \n",
              "\n",
              "    BootSpace  BaseModel  TopModel  \n",
              "0           1          6         0  \n",
              "1           0          5         4  \n",
              "2           1          7         5  \n",
              "3           3          0         1  \n",
              "4           7          1         2  \n",
              "5           5          3         3  \n",
              "6           2          2         6  \n",
              "7           4          4         6  \n",
              "8           7          8         6  \n",
              "9           7          8         6  \n",
              "10          7          8         6  \n",
              "11          6          8         6  "
            ],
            "text/html": [
              "\n",
              "  <div id=\"df-eea7a6db-9133-424c-aff6-b979f90c634a\">\n",
              "    <div class=\"colab-df-container\">\n",
              "      <div>\n",
              "<style scoped>\n",
              "    .dataframe tbody tr th:only-of-type {\n",
              "        vertical-align: middle;\n",
              "    }\n",
              "\n",
              "    .dataframe tbody tr th {\n",
              "        vertical-align: top;\n",
              "    }\n",
              "\n",
              "    .dataframe thead th {\n",
              "        text-align: right;\n",
              "    }\n",
              "</style>\n",
              "<table border=\"1\" class=\"dataframe\">\n",
              "  <thead>\n",
              "    <tr style=\"text-align: right;\">\n",
              "      <th></th>\n",
              "      <th>Car</th>\n",
              "      <th>Style</th>\n",
              "      <th>Range</th>\n",
              "      <th>Transmission</th>\n",
              "      <th>VehicleType</th>\n",
              "      <th>PriceRange</th>\n",
              "      <th>Capacity</th>\n",
              "      <th>BootSpace</th>\n",
              "      <th>BaseModel</th>\n",
              "      <th>TopModel</th>\n",
              "    </tr>\n",
              "  </thead>\n",
              "  <tbody>\n",
              "    <tr>\n",
              "      <th>0</th>\n",
              "      <td>0</td>\n",
              "      <td>0</td>\n",
              "      <td>0</td>\n",
              "      <td>0</td>\n",
              "      <td>0</td>\n",
              "      <td>7</td>\n",
              "      <td>1</td>\n",
              "      <td>1</td>\n",
              "      <td>6</td>\n",
              "      <td>0</td>\n",
              "    </tr>\n",
              "    <tr>\n",
              "      <th>1</th>\n",
              "      <td>0</td>\n",
              "      <td>0</td>\n",
              "      <td>0</td>\n",
              "      <td>0</td>\n",
              "      <td>0</td>\n",
              "      <td>6</td>\n",
              "      <td>1</td>\n",
              "      <td>0</td>\n",
              "      <td>5</td>\n",
              "      <td>4</td>\n",
              "    </tr>\n",
              "    <tr>\n",
              "      <th>2</th>\n",
              "      <td>0</td>\n",
              "      <td>0</td>\n",
              "      <td>0</td>\n",
              "      <td>0</td>\n",
              "      <td>0</td>\n",
              "      <td>8</td>\n",
              "      <td>1</td>\n",
              "      <td>1</td>\n",
              "      <td>7</td>\n",
              "      <td>5</td>\n",
              "    </tr>\n",
              "    <tr>\n",
              "      <th>3</th>\n",
              "      <td>0</td>\n",
              "      <td>0</td>\n",
              "      <td>0</td>\n",
              "      <td>0</td>\n",
              "      <td>0</td>\n",
              "      <td>9</td>\n",
              "      <td>1</td>\n",
              "      <td>3</td>\n",
              "      <td>0</td>\n",
              "      <td>1</td>\n",
              "    </tr>\n",
              "    <tr>\n",
              "      <th>4</th>\n",
              "      <td>0</td>\n",
              "      <td>0</td>\n",
              "      <td>0</td>\n",
              "      <td>0</td>\n",
              "      <td>0</td>\n",
              "      <td>10</td>\n",
              "      <td>1</td>\n",
              "      <td>7</td>\n",
              "      <td>1</td>\n",
              "      <td>2</td>\n",
              "    </tr>\n",
              "    <tr>\n",
              "      <th>5</th>\n",
              "      <td>0</td>\n",
              "      <td>0</td>\n",
              "      <td>0</td>\n",
              "      <td>0</td>\n",
              "      <td>0</td>\n",
              "      <td>2</td>\n",
              "      <td>1</td>\n",
              "      <td>5</td>\n",
              "      <td>3</td>\n",
              "      <td>3</td>\n",
              "    </tr>\n",
              "    <tr>\n",
              "      <th>6</th>\n",
              "      <td>0</td>\n",
              "      <td>0</td>\n",
              "      <td>0</td>\n",
              "      <td>0</td>\n",
              "      <td>0</td>\n",
              "      <td>5</td>\n",
              "      <td>1</td>\n",
              "      <td>2</td>\n",
              "      <td>2</td>\n",
              "      <td>6</td>\n",
              "    </tr>\n",
              "    <tr>\n",
              "      <th>7</th>\n",
              "      <td>0</td>\n",
              "      <td>0</td>\n",
              "      <td>0</td>\n",
              "      <td>0</td>\n",
              "      <td>0</td>\n",
              "      <td>11</td>\n",
              "      <td>1</td>\n",
              "      <td>4</td>\n",
              "      <td>4</td>\n",
              "      <td>6</td>\n",
              "    </tr>\n",
              "    <tr>\n",
              "      <th>8</th>\n",
              "      <td>0</td>\n",
              "      <td>0</td>\n",
              "      <td>0</td>\n",
              "      <td>0</td>\n",
              "      <td>0</td>\n",
              "      <td>0</td>\n",
              "      <td>1</td>\n",
              "      <td>7</td>\n",
              "      <td>8</td>\n",
              "      <td>6</td>\n",
              "    </tr>\n",
              "    <tr>\n",
              "      <th>9</th>\n",
              "      <td>0</td>\n",
              "      <td>0</td>\n",
              "      <td>0</td>\n",
              "      <td>0</td>\n",
              "      <td>0</td>\n",
              "      <td>3</td>\n",
              "      <td>1</td>\n",
              "      <td>7</td>\n",
              "      <td>8</td>\n",
              "      <td>6</td>\n",
              "    </tr>\n",
              "    <tr>\n",
              "      <th>10</th>\n",
              "      <td>0</td>\n",
              "      <td>0</td>\n",
              "      <td>0</td>\n",
              "      <td>0</td>\n",
              "      <td>0</td>\n",
              "      <td>4</td>\n",
              "      <td>0</td>\n",
              "      <td>7</td>\n",
              "      <td>8</td>\n",
              "      <td>6</td>\n",
              "    </tr>\n",
              "    <tr>\n",
              "      <th>11</th>\n",
              "      <td>0</td>\n",
              "      <td>0</td>\n",
              "      <td>0</td>\n",
              "      <td>0</td>\n",
              "      <td>0</td>\n",
              "      <td>1</td>\n",
              "      <td>1</td>\n",
              "      <td>6</td>\n",
              "      <td>8</td>\n",
              "      <td>6</td>\n",
              "    </tr>\n",
              "  </tbody>\n",
              "</table>\n",
              "</div>\n",
              "      <button class=\"colab-df-convert\" onclick=\"convertToInteractive('df-eea7a6db-9133-424c-aff6-b979f90c634a')\"\n",
              "              title=\"Convert this dataframe to an interactive table.\"\n",
              "              style=\"display:none;\">\n",
              "        \n",
              "  <svg xmlns=\"http://www.w3.org/2000/svg\" height=\"24px\"viewBox=\"0 0 24 24\"\n",
              "       width=\"24px\">\n",
              "    <path d=\"M0 0h24v24H0V0z\" fill=\"none\"/>\n",
              "    <path d=\"M18.56 5.44l.94 2.06.94-2.06 2.06-.94-2.06-.94-.94-2.06-.94 2.06-2.06.94zm-11 1L8.5 8.5l.94-2.06 2.06-.94-2.06-.94L8.5 2.5l-.94 2.06-2.06.94zm10 10l.94 2.06.94-2.06 2.06-.94-2.06-.94-.94-2.06-.94 2.06-2.06.94z\"/><path d=\"M17.41 7.96l-1.37-1.37c-.4-.4-.92-.59-1.43-.59-.52 0-1.04.2-1.43.59L10.3 9.45l-7.72 7.72c-.78.78-.78 2.05 0 2.83L4 21.41c.39.39.9.59 1.41.59.51 0 1.02-.2 1.41-.59l7.78-7.78 2.81-2.81c.8-.78.8-2.07 0-2.86zM5.41 20L4 18.59l7.72-7.72 1.47 1.35L5.41 20z\"/>\n",
              "  </svg>\n",
              "      </button>\n",
              "      \n",
              "  <style>\n",
              "    .colab-df-container {\n",
              "      display:flex;\n",
              "      flex-wrap:wrap;\n",
              "      gap: 12px;\n",
              "    }\n",
              "\n",
              "    .colab-df-convert {\n",
              "      background-color: #E8F0FE;\n",
              "      border: none;\n",
              "      border-radius: 50%;\n",
              "      cursor: pointer;\n",
              "      display: none;\n",
              "      fill: #1967D2;\n",
              "      height: 32px;\n",
              "      padding: 0 0 0 0;\n",
              "      width: 32px;\n",
              "    }\n",
              "\n",
              "    .colab-df-convert:hover {\n",
              "      background-color: #E2EBFA;\n",
              "      box-shadow: 0px 1px 2px rgba(60, 64, 67, 0.3), 0px 1px 3px 1px rgba(60, 64, 67, 0.15);\n",
              "      fill: #174EA6;\n",
              "    }\n",
              "\n",
              "    [theme=dark] .colab-df-convert {\n",
              "      background-color: #3B4455;\n",
              "      fill: #D2E3FC;\n",
              "    }\n",
              "\n",
              "    [theme=dark] .colab-df-convert:hover {\n",
              "      background-color: #434B5C;\n",
              "      box-shadow: 0px 1px 3px 1px rgba(0, 0, 0, 0.15);\n",
              "      filter: drop-shadow(0px 1px 2px rgba(0, 0, 0, 0.3));\n",
              "      fill: #FFFFFF;\n",
              "    }\n",
              "  </style>\n",
              "\n",
              "      <script>\n",
              "        const buttonEl =\n",
              "          document.querySelector('#df-eea7a6db-9133-424c-aff6-b979f90c634a button.colab-df-convert');\n",
              "        buttonEl.style.display =\n",
              "          google.colab.kernel.accessAllowed ? 'block' : 'none';\n",
              "\n",
              "        async function convertToInteractive(key) {\n",
              "          const element = document.querySelector('#df-eea7a6db-9133-424c-aff6-b979f90c634a');\n",
              "          const dataTable =\n",
              "            await google.colab.kernel.invokeFunction('convertToInteractive',\n",
              "                                                     [key], {});\n",
              "          if (!dataTable) return;\n",
              "\n",
              "          const docLinkHtml = 'Like what you see? Visit the ' +\n",
              "            '<a target=\"_blank\" href=https://colab.research.google.com/notebooks/data_table.ipynb>data table notebook</a>'\n",
              "            + ' to learn more about interactive tables.';\n",
              "          element.innerHTML = '';\n",
              "          dataTable['output_type'] = 'display_data';\n",
              "          await google.colab.output.renderOutput(dataTable, element);\n",
              "          const docLink = document.createElement('div');\n",
              "          docLink.innerHTML = docLinkHtml;\n",
              "          element.appendChild(docLink);\n",
              "        }\n",
              "      </script>\n",
              "    </div>\n",
              "  </div>\n",
              "  "
            ]
          },
          "metadata": {},
          "execution_count": 41
        }
      ]
    },
    {
      "cell_type": "code",
      "source": [
        "plt.figure(figsize=(20,10))\n",
        "sns.countplot(data.Car)\n",
        "plt.xlabel(\"TopModel\")\n",
        "plt.ylabel(\"BaseModel\")\n",
        "plt.show()"
      ],
      "metadata": {
        "colab": {
          "base_uri": "https://localhost:8080/",
          "height": 662
        },
        "id": "4_sZ_F0zjFKW",
        "outputId": "97e57a1e-7459-4970-c7c8-0ad1b3d1f71c"
      },
      "execution_count": null,
      "outputs": [
        {
          "output_type": "stream",
          "name": "stderr",
          "text": [
            "/usr/local/lib/python3.7/dist-packages/seaborn/_decorators.py:43: FutureWarning: Pass the following variable as a keyword arg: x. From version 0.12, the only valid positional argument will be `data`, and passing other arguments without an explicit keyword will result in an error or misinterpretation.\n",
            "  FutureWarning\n"
          ]
        },
        {
          "output_type": "display_data",
          "data": {
            "text/plain": [
              "<Figure size 1440x720 with 1 Axes>"
            ],
            "image/png": "[encoded data removed]"
          },
          "metadata": {
            "needs_background": "light"
          }
        }
      ]
    },
    {
      "cell_type": "code",
      "source": [
        "plt.figure(figsize=(20,7))\n",
        "TopModel = [0,4,5,1,2,3,6]\n",
        "for i in TopModel:\n",
        "    plt.scatter(x='Annual Income (k$)',y='Spending Score (1-100)', data=data[data['TopModel']==i],s = 200 , alpha = 0.5 , label = i)\n",
        "plt.legend()\n",
        "plt.xlabel(\"Topmodel\")\n",
        "plt.ylabel(\"Spending Score (1-100)\")\n",
        "plt.title(\" Score of Topmodel\")\n",
        "plt.show()"
      ],
      "metadata": {
        "colab": {
          "base_uri": "https://localhost:8080/",
          "height": 458
        },
        "id": "5XzNk7t9jObE",
        "outputId": "371a5b7d-16bb-49bb-c2d5-3a53fdd64e2a"
      },
      "execution_count": null,
      "outputs": [
        {
          "output_type": "display_data",
          "data": {
            "text/plain": [
              "<Figure size 1440x504 with 1 Axes>"
            ],
            "image/png": "[encoded data removed]"
          },
          "metadata": {
            "needs_background": "light"
          }
        }
      ]
    },
    {
      "cell_type": "code",
      "source": [
        "merg = linkage(data,method=\"ward\")\n",
        "plt.figure(figsize=(25,10))\n",
        "dendrogram(merg,leaf_rotation = 90)\n",
        "plt.xlabel(\"data points\")\n",
        "plt.ylabel(\"euclidean distance\")\n",
        "plt.show()"
      ],
      "metadata": {
        "colab": {
          "base_uri": "https://localhost:8080/",
          "height": 542
        },
        "id": "zhPDQGiglQv_",
        "outputId": "0302907c-23c4-4159-c3bd-9e019f2e546d"
      },
      "execution_count": null,
      "outputs": [
        {
          "output_type": "display_data",
          "data": {
            "text/plain": [
              "<Figure size 1800x720 with 1 Axes>"
            ],
            "image/png": "[encoded data removed]"
          },
          "metadata": {
            "needs_background": "light"
          }
        }
      ]
    }
  ]
}
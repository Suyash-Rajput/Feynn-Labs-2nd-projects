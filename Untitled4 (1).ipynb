{
  "nbformat": 4,
  "nbformat_minor": 0,
  "metadata": {
    "colab": {
      "name": "Untitled4.ipynb",
      "provenance": []
    },
    "kernelspec": {
      "name": "python3",
      "display_name": "Python 3"
    },
    "language_info": {
      "name": "python"
    }
  },
  "cells": [
    {
      "cell_type": "code",
      "execution_count": 1,
      "metadata": {
        "id": "DC3lG83Hw2wU"
      },
      "outputs": [],
      "source": [
        "import numpy as np # linear algebra\n",
        "import pandas as pd # data processing, CSV file I/O (e.g. pd.read_csv)\n",
        "\n",
        "#data visualization\n",
        "import matplotlib.pyplot as plt\n",
        "import seaborn as sns \n",
        "\n",
        "#clustering model library\n",
        "from sklearn.cluster import KMeans\n",
        "from scipy.cluster.hierarchy import linkage, dendrogram\n",
        "from sklearn.cluster import AgglomerativeClustering\n"
      ]
    },
    {
      "cell_type": "code",
      "source": [
        "df = pd.read_csv('EVs_charging_India.csv')"
      ],
      "metadata": {
        "id": "SFO-EVbwx2mx"
      },
      "execution_count": 2,
      "outputs": []
    },
    {
      "cell_type": "code",
      "source": [
        "df"
      ],
      "metadata": {
        "colab": {
          "base_uri": "https://localhost:8080/",
          "height": 832
        },
        "id": "yziespgCyM9r",
        "outputId": "d03404de-5ea3-4e24-f683-e86e6cb2f878"
      },
      "execution_count": 9,
      "outputs": [
        {
          "output_type": "execute_result",
          "data": {
            "text/plain": [
              "      no region                                            address  \\\n",
              "0      1   NDMC  Prithviraj Market, Rabindra Nagar, New Delhi- ...   \n",
              "1      2   NDMC  Prithviraj Market, Rabindra Nagar, New Delhi- ...   \n",
              "2      3   NDMC  Outside RWA Park, Jor Bagh Market, Jor Bagh Co...   \n",
              "3      4   NDMC  Opposite Dory Pharmacy, Khanna Market, Aliganj...   \n",
              "4      5   NDMC  Opposite Goel Opticals, Khanna Market, Aliganj...   \n",
              "..   ...    ...                                                ...   \n",
              "197  198  ANERT  State Council For Child Welfare, CV Raman Pill...   \n",
              "198  199  ANERT  Shanghumukham beach, thiruvananthapuram,Kerala...   \n",
              "199  200  ANERT  KTDC Tourist Reception Centre Shanmugham road,...   \n",
              "200  201  ANERT  State Council For Child Welfare, CV Raman Pill...   \n",
              "201  202   SDMC  EESL PVR Priya Vasant Vihar, SDMC parking New ...   \n",
              "\n",
              "                                            aux addres   latitude  longitude  \\\n",
              "0    Electric Vehicle Charger, Prithviraj Market, R...  28.600725  77.226252   \n",
              "1    Electric Vehicle Charger, Prithviraj Market, R...  28.600725  77.226252   \n",
              "2    Electric Vehicle Charger, Outside RWA Park, Jo...  28.588303  77.217697   \n",
              "3    Electric Vehicle Charger, Opposite Dory Pharma...  28.582654  77.220087   \n",
              "4    Electric Vehicle Charger, Opposite Goel Optica...  28.584485  77.220316   \n",
              "..                                                 ...        ...        ...   \n",
              "197  Electric Vehicle Charger, State Council For Ch...   8.491622  76.956247   \n",
              "198  Electric Vehicle Charger, Shanghumukham beach,...   8.481051  76.912622   \n",
              "199  Electric Vehicle Charger, KTDC Tourist Recepti...   9.976921  76.277781   \n",
              "200  Electric Vehicle Charger, State Council For Ch...   8.491622  76.956247   \n",
              "201  Electric Vehicle Charger, EESL PVR Priya Vasan...  28.557662  77.157684   \n",
              "\n",
              "                       type  power       service  \n",
              "0                    DC-001  15 kW  Self Service  \n",
              "1                    DC-001  15 kW  Self Service  \n",
              "2                    DC-001  15 kW  Self Service  \n",
              "3                    DC-001  15 kW  Self Service  \n",
              "4                    DC-001  15 kW  Self Service  \n",
              "..                      ...    ...           ...  \n",
              "197  CCS/ChADEMO/ Type 2 AC  142kW  Self Service  \n",
              "198                  DC-001  15 kW  Self Service  \n",
              "199                  DC-001  15 kW  Self Service  \n",
              "200                  DC-001  15 kW  Self Service  \n",
              "201                  DC-001  15 kW  Self Service  \n",
              "\n",
              "[202 rows x 9 columns]"
            ],
            "text/html": [
              "\n",
              "  <div id=\"df-fb47bad4-3c6f-4f8b-b799-9df62b31f49d\">\n",
              "    <div class=\"colab-df-container\">\n",
              "      <div>\n",
              "<style scoped>\n",
              "    .dataframe tbody tr th:only-of-type {\n",
              "        vertical-align: middle;\n",
              "    }\n",
              "\n",
              "    .dataframe tbody tr th {\n",
              "        vertical-align: top;\n",
              "    }\n",
              "\n",
              "    .dataframe thead th {\n",
              "        text-align: right;\n",
              "    }\n",
              "</style>\n",
              "<table border=\"1\" class=\"dataframe\">\n",
              "  <thead>\n",
              "    <tr style=\"text-align: right;\">\n",
              "      <th></th>\n",
              "      <th>no</th>\n",
              "      <th>region</th>\n",
              "      <th>address</th>\n",
              "      <th>aux addres</th>\n",
              "      <th>latitude</th>\n",
              "      <th>longitude</th>\n",
              "      <th>type</th>\n",
              "      <th>power</th>\n",
              "      <th>service</th>\n",
              "    </tr>\n",
              "  </thead>\n",
              "  <tbody>\n",
              "    <tr>\n",
              "      <th>0</th>\n",
              "      <td>1</td>\n",
              "      <td>NDMC</td>\n",
              "      <td>Prithviraj Market, Rabindra Nagar, New Delhi- ...</td>\n",
              "      <td>Electric Vehicle Charger, Prithviraj Market, R...</td>\n",
              "      <td>28.600725</td>\n",
              "      <td>77.226252</td>\n",
              "      <td>DC-001</td>\n",
              "      <td>15 kW</td>\n",
              "      <td>Self Service</td>\n",
              "    </tr>\n",
              "    <tr>\n",
              "      <th>1</th>\n",
              "      <td>2</td>\n",
              "      <td>NDMC</td>\n",
              "      <td>Prithviraj Market, Rabindra Nagar, New Delhi- ...</td>\n",
              "      <td>Electric Vehicle Charger, Prithviraj Market, R...</td>\n",
              "      <td>28.600725</td>\n",
              "      <td>77.226252</td>\n",
              "      <td>DC-001</td>\n",
              "      <td>15 kW</td>\n",
              "      <td>Self Service</td>\n",
              "    </tr>\n",
              "    <tr>\n",
              "      <th>2</th>\n",
              "      <td>3</td>\n",
              "      <td>NDMC</td>\n",
              "      <td>Outside RWA Park, Jor Bagh Market, Jor Bagh Co...</td>\n",
              "      <td>Electric Vehicle Charger, Outside RWA Park, Jo...</td>\n",
              "      <td>28.588303</td>\n",
              "      <td>77.217697</td>\n",
              "      <td>DC-001</td>\n",
              "      <td>15 kW</td>\n",
              "      <td>Self Service</td>\n",
              "    </tr>\n",
              "    <tr>\n",
              "      <th>3</th>\n",
              "      <td>4</td>\n",
              "      <td>NDMC</td>\n",
              "      <td>Opposite Dory Pharmacy, Khanna Market, Aliganj...</td>\n",
              "      <td>Electric Vehicle Charger, Opposite Dory Pharma...</td>\n",
              "      <td>28.582654</td>\n",
              "      <td>77.220087</td>\n",
              "      <td>DC-001</td>\n",
              "      <td>15 kW</td>\n",
              "      <td>Self Service</td>\n",
              "    </tr>\n",
              "    <tr>\n",
              "      <th>4</th>\n",
              "      <td>5</td>\n",
              "      <td>NDMC</td>\n",
              "      <td>Opposite Goel Opticals, Khanna Market, Aliganj...</td>\n",
              "      <td>Electric Vehicle Charger, Opposite Goel Optica...</td>\n",
              "      <td>28.584485</td>\n",
              "      <td>77.220316</td>\n",
              "      <td>DC-001</td>\n",
              "      <td>15 kW</td>\n",
              "      <td>Self Service</td>\n",
              "    </tr>\n",
              "    <tr>\n",
              "      <th>...</th>\n",
              "      <td>...</td>\n",
              "      <td>...</td>\n",
              "      <td>...</td>\n",
              "      <td>...</td>\n",
              "      <td>...</td>\n",
              "      <td>...</td>\n",
              "      <td>...</td>\n",
              "      <td>...</td>\n",
              "      <td>...</td>\n",
              "    </tr>\n",
              "    <tr>\n",
              "      <th>197</th>\n",
              "      <td>198</td>\n",
              "      <td>ANERT</td>\n",
              "      <td>State Council For Child Welfare, CV Raman Pill...</td>\n",
              "      <td>Electric Vehicle Charger, State Council For Ch...</td>\n",
              "      <td>8.491622</td>\n",
              "      <td>76.956247</td>\n",
              "      <td>CCS/ChADEMO/ Type 2 AC</td>\n",
              "      <td>142kW</td>\n",
              "      <td>Self Service</td>\n",
              "    </tr>\n",
              "    <tr>\n",
              "      <th>198</th>\n",
              "      <td>199</td>\n",
              "      <td>ANERT</td>\n",
              "      <td>Shanghumukham beach, thiruvananthapuram,Kerala...</td>\n",
              "      <td>Electric Vehicle Charger, Shanghumukham beach,...</td>\n",
              "      <td>8.481051</td>\n",
              "      <td>76.912622</td>\n",
              "      <td>DC-001</td>\n",
              "      <td>15 kW</td>\n",
              "      <td>Self Service</td>\n",
              "    </tr>\n",
              "    <tr>\n",
              "      <th>199</th>\n",
              "      <td>200</td>\n",
              "      <td>ANERT</td>\n",
              "      <td>KTDC Tourist Reception Centre Shanmugham road,...</td>\n",
              "      <td>Electric Vehicle Charger, KTDC Tourist Recepti...</td>\n",
              "      <td>9.976921</td>\n",
              "      <td>76.277781</td>\n",
              "      <td>DC-001</td>\n",
              "      <td>15 kW</td>\n",
              "      <td>Self Service</td>\n",
              "    </tr>\n",
              "    <tr>\n",
              "      <th>200</th>\n",
              "      <td>201</td>\n",
              "      <td>ANERT</td>\n",
              "      <td>State Council For Child Welfare, CV Raman Pill...</td>\n",
              "      <td>Electric Vehicle Charger, State Council For Ch...</td>\n",
              "      <td>8.491622</td>\n",
              "      <td>76.956247</td>\n",
              "      <td>DC-001</td>\n",
              "      <td>15 kW</td>\n",
              "      <td>Self Service</td>\n",
              "    </tr>\n",
              "    <tr>\n",
              "      <th>201</th>\n",
              "      <td>202</td>\n",
              "      <td>SDMC</td>\n",
              "      <td>EESL PVR Priya Vasant Vihar, SDMC parking New ...</td>\n",
              "      <td>Electric Vehicle Charger, EESL PVR Priya Vasan...</td>\n",
              "      <td>28.557662</td>\n",
              "      <td>77.157684</td>\n",
              "      <td>DC-001</td>\n",
              "      <td>15 kW</td>\n",
              "      <td>Self Service</td>\n",
              "    </tr>\n",
              "  </tbody>\n",
              "</table>\n",
              "<p>202 rows × 9 columns</p>\n",
              "</div>\n",
              "      <button class=\"colab-df-convert\" onclick=\"convertToInteractive('df-fb47bad4-3c6f-4f8b-b799-9df62b31f49d')\"\n",
              "              title=\"Convert this dataframe to an interactive table.\"\n",
              "              style=\"display:none;\">\n",
              "        \n",
              "  <svg xmlns=\"http://www.w3.org/2000/svg\" height=\"24px\"viewBox=\"0 0 24 24\"\n",
              "       width=\"24px\">\n",
              "    <path d=\"M0 0h24v24H0V0z\" fill=\"none\"/>\n",
              "    <path d=\"M18.56 5.44l.94 2.06.94-2.06 2.06-.94-2.06-.94-.94-2.06-.94 2.06-2.06.94zm-11 1L8.5 8.5l.94-2.06 2.06-.94-2.06-.94L8.5 2.5l-.94 2.06-2.06.94zm10 10l.94 2.06.94-2.06 2.06-.94-2.06-.94-.94-2.06-.94 2.06-2.06.94z\"/><path d=\"M17.41 7.96l-1.37-1.37c-.4-.4-.92-.59-1.43-.59-.52 0-1.04.2-1.43.59L10.3 9.45l-7.72 7.72c-.78.78-.78 2.05 0 2.83L4 21.41c.39.39.9.59 1.41.59.51 0 1.02-.2 1.41-.59l7.78-7.78 2.81-2.81c.8-.78.8-2.07 0-2.86zM5.41 20L4 18.59l7.72-7.72 1.47 1.35L5.41 20z\"/>\n",
              "  </svg>\n",
              "      </button>\n",
              "      \n",
              "  <style>\n",
              "    .colab-df-container {\n",
              "      display:flex;\n",
              "      flex-wrap:wrap;\n",
              "      gap: 12px;\n",
              "    }\n",
              "\n",
              "    .colab-df-convert {\n",
              "      background-color: #E8F0FE;\n",
              "      border: none;\n",
              "      border-radius: 50%;\n",
              "      cursor: pointer;\n",
              "      display: none;\n",
              "      fill: #1967D2;\n",
              "      height: 32px;\n",
              "      padding: 0 0 0 0;\n",
              "      width: 32px;\n",
              "    }\n",
              "\n",
              "    .colab-df-convert:hover {\n",
              "      background-color: #E2EBFA;\n",
              "      box-shadow: 0px 1px 2px rgba(60, 64, 67, 0.3), 0px 1px 3px 1px rgba(60, 64, 67, 0.15);\n",
              "      fill: #174EA6;\n",
              "    }\n",
              "\n",
              "    [theme=dark] .colab-df-convert {\n",
              "      background-color: #3B4455;\n",
              "      fill: #D2E3FC;\n",
              "    }\n",
              "\n",
              "    [theme=dark] .colab-df-convert:hover {\n",
              "      background-color: #434B5C;\n",
              "      box-shadow: 0px 1px 3px 1px rgba(0, 0, 0, 0.15);\n",
              "      filter: drop-shadow(0px 1px 2px rgba(0, 0, 0, 0.3));\n",
              "      fill: #FFFFFF;\n",
              "    }\n",
              "  </style>\n",
              "\n",
              "      <script>\n",
              "        const buttonEl =\n",
              "          document.querySelector('#df-fb47bad4-3c6f-4f8b-b799-9df62b31f49d button.colab-df-convert');\n",
              "        buttonEl.style.display =\n",
              "          google.colab.kernel.accessAllowed ? 'block' : 'none';\n",
              "\n",
              "        async function convertToInteractive(key) {\n",
              "          const element = document.querySelector('#df-fb47bad4-3c6f-4f8b-b799-9df62b31f49d');\n",
              "          const dataTable =\n",
              "            await google.colab.kernel.invokeFunction('convertToInteractive',\n",
              "                                                     [key], {});\n",
              "          if (!dataTable) return;\n",
              "\n",
              "          const docLinkHtml = 'Like what you see? Visit the ' +\n",
              "            '<a target=\"_blank\" href=https://colab.research.google.com/notebooks/data_table.ipynb>data table notebook</a>'\n",
              "            + ' to learn more about interactive tables.';\n",
              "          element.innerHTML = '';\n",
              "          dataTable['output_type'] = 'display_data';\n",
              "          await google.colab.output.renderOutput(dataTable, element);\n",
              "          const docLink = document.createElement('div');\n",
              "          docLink.innerHTML = docLinkHtml;\n",
              "          element.appendChild(docLink);\n",
              "        }\n",
              "      </script>\n",
              "    </div>\n",
              "  </div>\n",
              "  "
            ]
          },
          "metadata": {},
          "execution_count": 9
        }
      ]
    },
    {
      "cell_type": "code",
      "source": [
        "print(df.region)"
      ],
      "metadata": {
        "colab": {
          "base_uri": "https://localhost:8080/"
        },
        "id": "g_SIrHfnEUX7",
        "outputId": "d7b95a62-2aed-4f27-b70b-ee1a481e277d"
      },
      "execution_count": 12,
      "outputs": [
        {
          "output_type": "stream",
          "name": "stdout",
          "text": [
            "0       NDMC\n",
            "1       NDMC\n",
            "2       NDMC\n",
            "3       NDMC\n",
            "4       NDMC\n",
            "       ...  \n",
            "197    ANERT\n",
            "198    ANERT\n",
            "199    ANERT\n",
            "200    ANERT\n",
            "201     SDMC\n",
            "Name: region, Length: 202, dtype: object\n"
          ]
        }
      ]
    },
    {
      "cell_type": "code",
      "source": [
        "region = df.region.value_counts()\n",
        "sns.set_style(\"darkgrid\")\n",
        "plt.figure(figsize=(10,4))\n",
        "sns.barplot(x=region.index, y=region.values)\n",
        "plt.show()"
      ],
      "metadata": {
        "colab": {
          "base_uri": "https://localhost:8080/",
          "height": 265
        },
        "id": "LMrWbP3nGGAD",
        "outputId": "6361a367-bfee-4373-8fde-87533ae771fe"
      },
      "execution_count": 15,
      "outputs": [
        {
          "output_type": "display_data",
          "data": {
            "text/plain": [
              "<Figure size 720x288 with 1 Axes>"
            ],
            "image/png": "[encoded data removed]"
          },
          "metadata": {}
        }
      ]
    },
    {
      "cell_type": "code",
      "source": [
        "labels = ['NDMC','Noida Authority','SDMC','CMRL','NKDA','ANERT','NRANVP','Maha Metro']\n",
        "sizes = [df.query('region == \"NDMC\"').region.count(),df.query('region == \"Noida Authority\"').region.count(),df.query('region == \"SDMC\"').region.count(),df.query('region == \"CMRL\"').region.count(),df.query('region == \"NKDA\"').region.count(),df.query('region == \"ANERT\"').region.count(),df.query('region == \"NRANVP\"').region.count(),df.query('region == \"Maha Metro\"').region.count(),]\n",
        "#colors\n",
        "colors = ['#ffdaB9','#66b3ff','#ff0000','#ffa500','#ff00ff','#00ff00','#C0C0C0','#808080']\n",
        "#explsion\n",
        "explode = (0.05,0.05,0.05,0.05,0.05,0.05,0.05,0.05)\n",
        "plt.figure(figsize=(8,8)) \n",
        "my_circle=plt.Circle( (0,0), 0.7, color='white')\n",
        "plt.pie(sizes, colors = colors, labels=labels, autopct='%1.1f%%', startangle=90, pctdistance=0.85,explode=explode)\n",
        "p=plt.gcf()\n",
        "plt.axis('equal')\n",
        "p.gca().add_artist(my_circle)\n",
        "plt.show()"
      ],
      "metadata": {
        "colab": {
          "base_uri": "https://localhost:8080/",
          "height": 480
        },
        "id": "VWwDh0ibyai6",
        "outputId": "327cb257-4864-488a-e129-66b2b3cc9d15"
      },
      "execution_count": 21,
      "outputs": [
        {
          "output_type": "display_data",
          "data": {
            "text/plain": [
              "<Figure size 576x576 with 1 Axes>"
            ],
            "image/png": "[encoded data removed]"
          },
          "metadata": {}
        }
      ]
    },
    {
      "cell_type": "markdown",
      "source": [
        "The Below code describe the types available"
      ],
      "metadata": {
        "id": "nn2eYkAsJ3B9"
      }
    },
    {
      "cell_type": "code",
      "source": [
        "print(df.type)"
      ],
      "metadata": {
        "colab": {
          "base_uri": "https://localhost:8080/"
        },
        "id": "Vhx6EsuJJ__6",
        "outputId": "1701c174-fd3f-4095-f6be-7d72a92a4483"
      },
      "execution_count": 22,
      "outputs": [
        {
          "output_type": "stream",
          "name": "stdout",
          "text": [
            "0                      DC-001\n",
            "1                      DC-001\n",
            "2                      DC-001\n",
            "3                      DC-001\n",
            "4                      DC-001\n",
            "                ...          \n",
            "197    CCS/ChADEMO/ Type 2 AC\n",
            "198                    DC-001\n",
            "199                    DC-001\n",
            "200                    DC-001\n",
            "201                    DC-001\n",
            "Name: type, Length: 202, dtype: object\n"
          ]
        }
      ]
    },
    {
      "cell_type": "code",
      "source": [
        "type = df.type.value_counts()\n",
        "sns.set_style(\"darkgrid\")\n",
        "plt.figure(figsize=(10,4))\n",
        "sns.barplot(x=type.index, y=type.values)\n",
        "plt.show()"
      ],
      "metadata": {
        "colab": {
          "base_uri": "https://localhost:8080/",
          "height": 268
        },
        "id": "sxrH9o6xJ74G",
        "outputId": "ea46bf4a-afac-4cdf-a457-cd6d2d7b2566"
      },
      "execution_count": 24,
      "outputs": [
        {
          "output_type": "display_data",
          "data": {
            "text/plain": [
              "<Figure size 720x288 with 1 Axes>"
            ],
            "image/png": "[encoded data removed]"
          },
          "metadata": {}
        }
      ]
    },
    {
      "cell_type": "code",
      "source": [
        "print(df.power)"
      ],
      "metadata": {
        "colab": {
          "base_uri": "https://localhost:8080/"
        },
        "id": "Hfe-BlTUKkX8",
        "outputId": "be6696fd-021e-4444-aa31-9591af8fdec0"
      },
      "execution_count": 26,
      "outputs": [
        {
          "output_type": "stream",
          "name": "stdout",
          "text": [
            "0      15 kW\n",
            "1      15 kW\n",
            "2      15 kW\n",
            "3      15 kW\n",
            "4      15 kW\n",
            "       ...  \n",
            "197    142kW\n",
            "198    15 kW\n",
            "199    15 kW\n",
            "200    15 kW\n",
            "201    15 kW\n",
            "Name: power, Length: 202, dtype: object\n"
          ]
        }
      ]
    },
    {
      "cell_type": "code",
      "source": [
        "power = df.power.value_counts()\n",
        "sns.set_style(\"darkgrid\")\n",
        "plt.figure(figsize=(10,4))\n",
        "sns.barplot(x=power.index, y=power.values)\n",
        "plt.show()"
      ],
      "metadata": {
        "colab": {
          "base_uri": "https://localhost:8080/",
          "height": 268
        },
        "id": "TrML6Mz7KWdg",
        "outputId": "cec1833a-b15b-4934-e95e-e2d5f5eaa9a7"
      },
      "execution_count": 25,
      "outputs": [
        {
          "output_type": "display_data",
          "data": {
            "text/plain": [
              "<Figure size 720x288 with 1 Axes>"
            ],
            "image/png": "[encoded data removed]"
          },
          "metadata": {}
        }
      ]
    }
  ]
}